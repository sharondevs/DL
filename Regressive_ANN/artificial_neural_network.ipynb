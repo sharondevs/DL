{
  "nbformat": 4,
  "nbformat_minor": 0,
  "metadata": {
    "colab": {
      "name": "artificial_neural_network.ipynb",
      "provenance": [],
      "collapsed_sections": [],
      "toc_visible": true
    },
    "kernelspec": {
      "name": "python3",
      "display_name": "Python 3"
    }
  },
  "cells": [
    {
      "cell_type": "markdown",
      "metadata": {
        "id": "3cbb7fRy-eyr",
        "colab_type": "text"
      },
      "source": [
        "# Artificial Neural Network"
      ]
    },
    {
      "cell_type": "markdown",
      "metadata": {
        "id": "8sNDnxE2-pwE",
        "colab_type": "text"
      },
      "source": [
        "### Importing the libraries"
      ]
    },
    {
      "cell_type": "code",
      "metadata": {
        "id": "lxChR1Rk-umf",
        "colab_type": "code",
        "colab": {}
      },
      "source": [
        "import numpy as np\n",
        "import pandas as pd\n",
        "import tensorflow as tf"
      ],
      "execution_count": 0,
      "outputs": []
    },
    {
      "cell_type": "code",
      "metadata": {
        "id": "uBTqR3nacj0e",
        "colab_type": "code",
        "outputId": "e8de10f4-c70d-4fe0-ee72-f012309471aa",
        "colab": {
          "base_uri": "https://localhost:8080/",
          "height": 34
        }
      },
      "source": [
        "tf.__version__"
      ],
      "execution_count": 0,
      "outputs": [
        {
          "output_type": "execute_result",
          "data": {
            "text/plain": [
              "'2.2.0-rc3'"
            ]
          },
          "metadata": {
            "tags": []
          },
          "execution_count": 2
        }
      ]
    },
    {
      "cell_type": "markdown",
      "metadata": {
        "id": "AG3FQEch-yuA",
        "colab_type": "text"
      },
      "source": [
        "## Part 1 - Data Preprocessing"
      ]
    },
    {
      "cell_type": "markdown",
      "metadata": {
        "id": "-4zq8Mza_D9O",
        "colab_type": "text"
      },
      "source": [
        "### Importing the dataset"
      ]
    },
    {
      "cell_type": "code",
      "metadata": {
        "id": "B9CV13Co_HHM",
        "colab_type": "code",
        "colab": {}
      },
      "source": [
        "dataset = pd.read_excel(\"Folds5x2_pp.xlsx\")\n",
        "X= dataset.iloc[:,0:-1].values\n",
        "y = dataset.iloc[:,-1:].values"
      ],
      "execution_count": 0,
      "outputs": []
    },
    {
      "cell_type": "markdown",
      "metadata": {
        "id": "VC6omXel_Up0",
        "colab_type": "text"
      },
      "source": [
        "### Splitting the dataset into the Training set and Test set"
      ]
    },
    {
      "cell_type": "code",
      "metadata": {
        "id": "L5edeb2r_agx",
        "colab_type": "code",
        "colab": {}
      },
      "source": [
        "# We don't need to do much preprocessing because there are no unknown values in the dataset.\n",
        "from sklearn.model_selection import train_test_split\n",
        "X_train, X_test,y_train,y_test  = train_test_split(X,y,test_size = 0.2, random_state = 0)"
      ],
      "execution_count": 0,
      "outputs": []
    },
    {
      "cell_type": "markdown",
      "metadata": {
        "id": "_mSLlAT9_eyI",
        "colab_type": "text"
      },
      "source": [
        "## Part 2 - Building the ANN"
      ]
    },
    {
      "cell_type": "markdown",
      "metadata": {
        "id": "CsBULd_f_wLY",
        "colab_type": "text"
      },
      "source": [
        "### Initializing the ANN"
      ]
    },
    {
      "cell_type": "code",
      "metadata": {
        "id": "J6Hd97Ls__Nz",
        "colab_type": "code",
        "colab": {}
      },
      "source": [
        "regressor = tf.keras.models.Sequential()\n"
      ],
      "execution_count": 0,
      "outputs": []
    },
    {
      "cell_type": "markdown",
      "metadata": {
        "id": "iitAFJS_ABUn",
        "colab_type": "text"
      },
      "source": [
        "### Adding the input layer and the first hidden layer"
      ]
    },
    {
      "cell_type": "code",
      "metadata": {
        "id": "ksO_Vv40AHix",
        "colab_type": "code",
        "colab": {}
      },
      "source": [
        "regressor.add(tf.keras.layers.Dense(units = 6, activation= 'relu',input_shape =(4,)))"
      ],
      "execution_count": 0,
      "outputs": []
    },
    {
      "cell_type": "markdown",
      "metadata": {
        "id": "-lb4kK_wAKbs",
        "colab_type": "text"
      },
      "source": [
        "### Adding the second hidden layer"
      ]
    },
    {
      "cell_type": "code",
      "metadata": {
        "id": "c2357OqEAQOQ",
        "colab_type": "code",
        "colab": {}
      },
      "source": [
        "regressor.add(tf.keras.layers.Dense(units = 6, activation= 'relu'))"
      ],
      "execution_count": 0,
      "outputs": []
    },
    {
      "cell_type": "markdown",
      "metadata": {
        "id": "jwMOmKb3AdBY",
        "colab_type": "text"
      },
      "source": [
        "### Adding the output layer"
      ]
    },
    {
      "cell_type": "code",
      "metadata": {
        "id": "YFATpzsUAkLL",
        "colab_type": "code",
        "colab": {}
      },
      "source": [
        "regressor.add(tf.keras.layers.Dense(units = 1)) # We don't need an activation function because of the continuous nature of the dependent variable"
      ],
      "execution_count": 0,
      "outputs": []
    },
    {
      "cell_type": "markdown",
      "metadata": {
        "id": "fq7e4fF6A1yy",
        "colab_type": "text"
      },
      "source": [
        "## Part 3 - Training the ANN"
      ]
    },
    {
      "cell_type": "markdown",
      "metadata": {
        "id": "qDeylAs2An25",
        "colab_type": "text"
      },
      "source": [
        "### Compiling the ANN"
      ]
    },
    {
      "cell_type": "code",
      "metadata": {
        "id": "pesgbWlCAtB4",
        "colab_type": "code",
        "colab": {}
      },
      "source": [
        "regressor.compile(optimizer= 'adam',loss = 'mean_squared_error')"
      ],
      "execution_count": 0,
      "outputs": []
    },
    {
      "cell_type": "markdown",
      "metadata": {
        "id": "YjVuiybYOo7r",
        "colab_type": "text"
      },
      "source": [
        "### Training the ANN model on the Training set"
      ]
    },
    {
      "cell_type": "code",
      "metadata": {
        "id": "c_vV-tiiA5zn",
        "colab_type": "code",
        "outputId": "63f84e87-c1dd-4d64-f6a9-f18253a3799e",
        "colab": {
          "base_uri": "https://localhost:8080/",
          "height": 1000
        }
      },
      "source": [
        "regressor.fit(x  = X_train,y = y_train, epochs = 100, batch_size = 32)"
      ],
      "execution_count": 0,
      "outputs": [
        {
          "output_type": "stream",
          "text": [
            "Epoch 1/100\n",
            "240/240 [==============================] - 0s 1ms/step - loss: 106850.8828\n",
            "Epoch 2/100\n",
            "240/240 [==============================] - 0s 1ms/step - loss: 287.8013\n",
            "Epoch 3/100\n",
            "240/240 [==============================] - 0s 1ms/step - loss: 236.3756\n",
            "Epoch 4/100\n",
            "240/240 [==============================] - 0s 1ms/step - loss: 231.1927\n",
            "Epoch 5/100\n",
            "240/240 [==============================] - 0s 1ms/step - loss: 224.5738\n",
            "Epoch 6/100\n",
            "240/240 [==============================] - 0s 1ms/step - loss: 216.4466\n",
            "Epoch 7/100\n",
            "240/240 [==============================] - 0s 1ms/step - loss: 208.2027\n",
            "Epoch 8/100\n",
            "240/240 [==============================] - 0s 1ms/step - loss: 199.3725\n",
            "Epoch 9/100\n",
            "240/240 [==============================] - 0s 1ms/step - loss: 188.9421\n",
            "Epoch 10/100\n",
            "240/240 [==============================] - 0s 1ms/step - loss: 177.9399\n",
            "Epoch 11/100\n",
            "240/240 [==============================] - 0s 1ms/step - loss: 167.5457\n",
            "Epoch 12/100\n",
            "240/240 [==============================] - 0s 1ms/step - loss: 155.2361\n",
            "Epoch 13/100\n",
            "240/240 [==============================] - 0s 1ms/step - loss: 143.0478\n",
            "Epoch 14/100\n",
            "240/240 [==============================] - 0s 1ms/step - loss: 131.5287\n",
            "Epoch 15/100\n",
            "240/240 [==============================] - 0s 1ms/step - loss: 120.0564\n",
            "Epoch 16/100\n",
            "240/240 [==============================] - 0s 1ms/step - loss: 108.6259\n",
            "Epoch 17/100\n",
            "240/240 [==============================] - 0s 1ms/step - loss: 98.5028\n",
            "Epoch 18/100\n",
            "240/240 [==============================] - 0s 1ms/step - loss: 88.6847\n",
            "Epoch 19/100\n",
            "240/240 [==============================] - 0s 1ms/step - loss: 80.4293\n",
            "Epoch 20/100\n",
            "240/240 [==============================] - 0s 1ms/step - loss: 72.3141\n",
            "Epoch 21/100\n",
            "240/240 [==============================] - 0s 1ms/step - loss: 65.8732\n",
            "Epoch 22/100\n",
            "240/240 [==============================] - 0s 1ms/step - loss: 60.7621\n",
            "Epoch 23/100\n",
            "240/240 [==============================] - 0s 1ms/step - loss: 56.4712\n",
            "Epoch 24/100\n",
            "240/240 [==============================] - 0s 1ms/step - loss: 53.3707\n",
            "Epoch 25/100\n",
            "240/240 [==============================] - 0s 1ms/step - loss: 50.4541\n",
            "Epoch 26/100\n",
            "240/240 [==============================] - 0s 1ms/step - loss: 48.0075\n",
            "Epoch 27/100\n",
            "240/240 [==============================] - 0s 1ms/step - loss: 46.3988\n",
            "Epoch 28/100\n",
            "240/240 [==============================] - 0s 1ms/step - loss: 44.7666\n",
            "Epoch 29/100\n",
            "240/240 [==============================] - 0s 1ms/step - loss: 43.4901\n",
            "Epoch 30/100\n",
            "240/240 [==============================] - 0s 1ms/step - loss: 42.4615\n",
            "Epoch 31/100\n",
            "240/240 [==============================] - 0s 1ms/step - loss: 41.4083\n",
            "Epoch 32/100\n",
            "240/240 [==============================] - 0s 1ms/step - loss: 40.7775\n",
            "Epoch 33/100\n",
            "240/240 [==============================] - 0s 1ms/step - loss: 39.8045\n",
            "Epoch 34/100\n",
            "240/240 [==============================] - 0s 1ms/step - loss: 38.6244\n",
            "Epoch 35/100\n",
            "240/240 [==============================] - 0s 1ms/step - loss: 38.3074\n",
            "Epoch 36/100\n",
            "240/240 [==============================] - 0s 1ms/step - loss: 37.3697\n",
            "Epoch 37/100\n",
            "240/240 [==============================] - 0s 1ms/step - loss: 36.7369\n",
            "Epoch 38/100\n",
            "240/240 [==============================] - 0s 1ms/step - loss: 36.6533\n",
            "Epoch 39/100\n",
            "240/240 [==============================] - 0s 1ms/step - loss: 35.2948\n",
            "Epoch 40/100\n",
            "240/240 [==============================] - 0s 1ms/step - loss: 34.7917\n",
            "Epoch 41/100\n",
            "240/240 [==============================] - 0s 1ms/step - loss: 34.7950\n",
            "Epoch 42/100\n",
            "240/240 [==============================] - 0s 1ms/step - loss: 33.9577\n",
            "Epoch 43/100\n",
            "240/240 [==============================] - 0s 1ms/step - loss: 34.1099\n",
            "Epoch 44/100\n",
            "240/240 [==============================] - 0s 1ms/step - loss: 33.7410\n",
            "Epoch 45/100\n",
            "240/240 [==============================] - 0s 1ms/step - loss: 32.5209\n",
            "Epoch 46/100\n",
            "240/240 [==============================] - 0s 1ms/step - loss: 31.7516\n",
            "Epoch 47/100\n",
            "240/240 [==============================] - 0s 1ms/step - loss: 31.8223\n",
            "Epoch 48/100\n",
            "240/240 [==============================] - 0s 1ms/step - loss: 31.5993\n",
            "Epoch 49/100\n",
            "240/240 [==============================] - 0s 1ms/step - loss: 31.2511\n",
            "Epoch 50/100\n",
            "240/240 [==============================] - 0s 1ms/step - loss: 30.7916\n",
            "Epoch 51/100\n",
            "240/240 [==============================] - 0s 1ms/step - loss: 30.1517\n",
            "Epoch 52/100\n",
            "240/240 [==============================] - 0s 1ms/step - loss: 30.2567\n",
            "Epoch 53/100\n",
            "240/240 [==============================] - 0s 1ms/step - loss: 29.8318\n",
            "Epoch 54/100\n",
            "240/240 [==============================] - 0s 1ms/step - loss: 29.6899\n",
            "Epoch 55/100\n",
            "240/240 [==============================] - 0s 1ms/step - loss: 29.6050\n",
            "Epoch 56/100\n",
            "240/240 [==============================] - 0s 1ms/step - loss: 29.1892\n",
            "Epoch 57/100\n",
            "240/240 [==============================] - 0s 1ms/step - loss: 29.1757\n",
            "Epoch 58/100\n",
            "240/240 [==============================] - 0s 1ms/step - loss: 28.6119\n",
            "Epoch 59/100\n",
            "240/240 [==============================] - 0s 1ms/step - loss: 28.6049\n",
            "Epoch 60/100\n",
            "240/240 [==============================] - 0s 1ms/step - loss: 28.3732\n",
            "Epoch 61/100\n",
            "240/240 [==============================] - 0s 1ms/step - loss: 28.4473\n",
            "Epoch 62/100\n",
            "240/240 [==============================] - 0s 1ms/step - loss: 28.7863\n",
            "Epoch 63/100\n",
            "240/240 [==============================] - 0s 1ms/step - loss: 27.9110\n",
            "Epoch 64/100\n",
            "240/240 [==============================] - 0s 1ms/step - loss: 28.6119\n",
            "Epoch 65/100\n",
            "240/240 [==============================] - 0s 1ms/step - loss: 28.1570\n",
            "Epoch 66/100\n",
            "240/240 [==============================] - 0s 1ms/step - loss: 28.4113\n",
            "Epoch 67/100\n",
            "240/240 [==============================] - 0s 1ms/step - loss: 27.7607\n",
            "Epoch 68/100\n",
            "240/240 [==============================] - 0s 1ms/step - loss: 27.2907\n",
            "Epoch 69/100\n",
            "240/240 [==============================] - 0s 1ms/step - loss: 27.8250\n",
            "Epoch 70/100\n",
            "240/240 [==============================] - 0s 1ms/step - loss: 27.4237\n",
            "Epoch 71/100\n",
            "240/240 [==============================] - 0s 1ms/step - loss: 27.3063\n",
            "Epoch 72/100\n",
            "240/240 [==============================] - 0s 1ms/step - loss: 27.3528\n",
            "Epoch 73/100\n",
            "240/240 [==============================] - 0s 1ms/step - loss: 27.7006\n",
            "Epoch 74/100\n",
            "240/240 [==============================] - 0s 1ms/step - loss: 27.3104\n",
            "Epoch 75/100\n",
            "240/240 [==============================] - 0s 1ms/step - loss: 27.3054\n",
            "Epoch 76/100\n",
            "240/240 [==============================] - 0s 1ms/step - loss: 27.7733\n",
            "Epoch 77/100\n",
            "240/240 [==============================] - 0s 1ms/step - loss: 27.3232\n",
            "Epoch 78/100\n",
            "240/240 [==============================] - 0s 1ms/step - loss: 27.2321\n",
            "Epoch 79/100\n",
            "240/240 [==============================] - 0s 1ms/step - loss: 27.4339\n",
            "Epoch 80/100\n",
            "240/240 [==============================] - 0s 1ms/step - loss: 27.3853\n",
            "Epoch 81/100\n",
            "240/240 [==============================] - 0s 1ms/step - loss: 26.8576\n",
            "Epoch 82/100\n",
            "240/240 [==============================] - 0s 1ms/step - loss: 27.4653\n",
            "Epoch 83/100\n",
            "240/240 [==============================] - 0s 1ms/step - loss: 27.0518\n",
            "Epoch 84/100\n",
            "240/240 [==============================] - 0s 1ms/step - loss: 27.3564\n",
            "Epoch 85/100\n",
            "240/240 [==============================] - 0s 1ms/step - loss: 27.1776\n",
            "Epoch 86/100\n",
            "240/240 [==============================] - 0s 1ms/step - loss: 26.8890\n",
            "Epoch 87/100\n",
            "240/240 [==============================] - 0s 1ms/step - loss: 26.9928\n",
            "Epoch 88/100\n",
            "240/240 [==============================] - 0s 1ms/step - loss: 26.4992\n",
            "Epoch 89/100\n",
            "240/240 [==============================] - 0s 1ms/step - loss: 26.7005\n",
            "Epoch 90/100\n",
            "240/240 [==============================] - 0s 1ms/step - loss: 26.8288\n",
            "Epoch 91/100\n",
            "240/240 [==============================] - 0s 1ms/step - loss: 26.9620\n",
            "Epoch 92/100\n",
            "240/240 [==============================] - 0s 1ms/step - loss: 26.4505\n",
            "Epoch 93/100\n",
            "240/240 [==============================] - 0s 1ms/step - loss: 27.4877\n",
            "Epoch 94/100\n",
            "240/240 [==============================] - 0s 1ms/step - loss: 26.5691\n",
            "Epoch 95/100\n",
            "240/240 [==============================] - 0s 1ms/step - loss: 26.7163\n",
            "Epoch 96/100\n",
            "240/240 [==============================] - 0s 1ms/step - loss: 26.6468\n",
            "Epoch 97/100\n",
            "240/240 [==============================] - 0s 1ms/step - loss: 27.0622\n",
            "Epoch 98/100\n",
            "240/240 [==============================] - 0s 1ms/step - loss: 26.5902\n",
            "Epoch 99/100\n",
            "240/240 [==============================] - 0s 1ms/step - loss: 26.7869\n",
            "Epoch 100/100\n",
            "240/240 [==============================] - 0s 1ms/step - loss: 26.8379\n"
          ],
          "name": "stdout"
        },
        {
          "output_type": "execute_result",
          "data": {
            "text/plain": [
              "<tensorflow.python.keras.callbacks.History at 0x7f5276d03e10>"
            ]
          },
          "metadata": {
            "tags": []
          },
          "execution_count": 22
        }
      ]
    },
    {
      "cell_type": "markdown",
      "metadata": {
        "id": "0H0zKKNEBLD5",
        "colab_type": "text"
      },
      "source": [
        "### Predicting the results of the Test set"
      ]
    },
    {
      "cell_type": "code",
      "metadata": {
        "id": "IA0yApEmBG1X",
        "colab_type": "code",
        "colab": {}
      },
      "source": [
        "y_pred = regressor.predict(x = X_test)"
      ],
      "execution_count": 0,
      "outputs": []
    },
    {
      "cell_type": "code",
      "metadata": {
        "id": "yY7ijsFlAm63",
        "colab_type": "code",
        "colab": {}
      },
      "source": [
        "np.set_printoptions(precision=2)\n",
        "y_comparison = np.concatenate( (y_pred.reshape(len(y_pred),1),y_test.reshape(len(y_test),1)), axis = 1) "
      ],
      "execution_count": 0,
      "outputs": []
    },
    {
      "cell_type": "code",
      "metadata": {
        "id": "tNq2i9ifAsxH",
        "colab_type": "code",
        "outputId": "9e155857-dbe7-40da-9aa7-6d147a6d3ab7",
        "colab": {
          "base_uri": "https://localhost:8080/",
          "height": 134
        }
      },
      "source": [
        "y_comparison"
      ],
      "execution_count": 0,
      "outputs": [
        {
          "output_type": "execute_result",
          "data": {
            "text/plain": [
              "array([[431.53, 431.23],\n",
              "       [462.8 , 460.01],\n",
              "       [466.4 , 461.14],\n",
              "       ...,\n",
              "       [473.45, 473.26],\n",
              "       [440.56, 438.  ],\n",
              "       [459.65, 463.28]])"
            ]
          },
          "metadata": {
            "tags": []
          },
          "execution_count": 34
        }
      ]
    },
    {
      "cell_type": "code",
      "metadata": {
        "id": "av3Sv-yfFI8m",
        "colab_type": "code",
        "colab": {}
      },
      "source": [
        ""
      ],
      "execution_count": 0,
      "outputs": []
    }
  ]
}